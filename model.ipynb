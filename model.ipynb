{
 "cells": [
  {
   "cell_type": "code",
   "execution_count": 1,
   "metadata": {},
   "outputs": [],
   "source": [
    "import pandas as pd\n",
    "import numpy as np"
   ]
  },
  {
   "cell_type": "code",
   "execution_count": 2,
   "metadata": {},
   "outputs": [],
   "source": [
    "data = pd.read_csv('augmented_engine_data.csv')"
   ]
  },
  {
   "cell_type": "code",
   "execution_count": 3,
   "metadata": {},
   "outputs": [
    {
     "name": "stdout",
     "output_type": "stream",
     "text": [
      "<class 'pandas.core.frame.DataFrame'>\n",
      "RangeIndex: 25000 entries, 0 to 24999\n",
      "Data columns (total 7 columns):\n",
      " #   Column            Non-Null Count  Dtype  \n",
      "---  ------            --------------  -----  \n",
      " 0   Engine rpm        25000 non-null  int64  \n",
      " 1   Lub oil pressure  25000 non-null  float64\n",
      " 2   Fuel pressure     25000 non-null  float64\n",
      " 3   Coolant pressure  25000 non-null  float64\n",
      " 4   lub oil temp      25000 non-null  float64\n",
      " 5   Coolant temp      25000 non-null  float64\n",
      " 6   Engine Condition  25000 non-null  int64  \n",
      "dtypes: float64(5), int64(2)\n",
      "memory usage: 1.3 MB\n"
     ]
    }
   ],
   "source": [
    "data.info()"
   ]
  },
  {
   "cell_type": "code",
   "execution_count": 4,
   "metadata": {},
   "outputs": [
    {
     "data": {
      "text/html": [
       "<div>\n",
       "<style scoped>\n",
       "    .dataframe tbody tr th:only-of-type {\n",
       "        vertical-align: middle;\n",
       "    }\n",
       "\n",
       "    .dataframe tbody tr th {\n",
       "        vertical-align: top;\n",
       "    }\n",
       "\n",
       "    .dataframe thead th {\n",
       "        text-align: right;\n",
       "    }\n",
       "</style>\n",
       "<table border=\"1\" class=\"dataframe\">\n",
       "  <thead>\n",
       "    <tr style=\"text-align: right;\">\n",
       "      <th></th>\n",
       "      <th>Engine rpm</th>\n",
       "      <th>Lub oil pressure</th>\n",
       "      <th>Fuel pressure</th>\n",
       "      <th>Coolant pressure</th>\n",
       "      <th>lub oil temp</th>\n",
       "      <th>Coolant temp</th>\n",
       "      <th>Engine Condition</th>\n",
       "    </tr>\n",
       "  </thead>\n",
       "  <tbody>\n",
       "    <tr>\n",
       "      <th>0</th>\n",
       "      <td>700</td>\n",
       "      <td>2.493592</td>\n",
       "      <td>11.790927</td>\n",
       "      <td>3.178981</td>\n",
       "      <td>84.144163</td>\n",
       "      <td>81.632187</td>\n",
       "      <td>1</td>\n",
       "    </tr>\n",
       "    <tr>\n",
       "      <th>1</th>\n",
       "      <td>876</td>\n",
       "      <td>2.941606</td>\n",
       "      <td>16.193866</td>\n",
       "      <td>2.464504</td>\n",
       "      <td>77.640934</td>\n",
       "      <td>82.445724</td>\n",
       "      <td>0</td>\n",
       "    </tr>\n",
       "    <tr>\n",
       "      <th>2</th>\n",
       "      <td>520</td>\n",
       "      <td>2.961746</td>\n",
       "      <td>6.553147</td>\n",
       "      <td>1.064347</td>\n",
       "      <td>77.752266</td>\n",
       "      <td>79.645777</td>\n",
       "      <td>1</td>\n",
       "    </tr>\n",
       "    <tr>\n",
       "      <th>3</th>\n",
       "      <td>473</td>\n",
       "      <td>3.707835</td>\n",
       "      <td>19.510172</td>\n",
       "      <td>3.727455</td>\n",
       "      <td>74.129907</td>\n",
       "      <td>71.774629</td>\n",
       "      <td>1</td>\n",
       "    </tr>\n",
       "    <tr>\n",
       "      <th>4</th>\n",
       "      <td>619</td>\n",
       "      <td>5.672919</td>\n",
       "      <td>15.738871</td>\n",
       "      <td>2.052251</td>\n",
       "      <td>78.396989</td>\n",
       "      <td>87.000225</td>\n",
       "      <td>0</td>\n",
       "    </tr>\n",
       "  </tbody>\n",
       "</table>\n",
       "</div>"
      ],
      "text/plain": [
       "   Engine rpm  Lub oil pressure  Fuel pressure  Coolant pressure  \\\n",
       "0         700          2.493592      11.790927          3.178981   \n",
       "1         876          2.941606      16.193866          2.464504   \n",
       "2         520          2.961746       6.553147          1.064347   \n",
       "3         473          3.707835      19.510172          3.727455   \n",
       "4         619          5.672919      15.738871          2.052251   \n",
       "\n",
       "   lub oil temp  Coolant temp  Engine Condition  \n",
       "0     84.144163     81.632187                 1  \n",
       "1     77.640934     82.445724                 0  \n",
       "2     77.752266     79.645777                 1  \n",
       "3     74.129907     71.774629                 1  \n",
       "4     78.396989     87.000225                 0  "
      ]
     },
     "execution_count": 4,
     "metadata": {},
     "output_type": "execute_result"
    }
   ],
   "source": [
    "data.head()"
   ]
  },
  {
   "cell_type": "code",
   "execution_count": 5,
   "metadata": {},
   "outputs": [],
   "source": [
    "data['Engine_power'] = data['Engine rpm'] * data['Lub oil pressure']"
   ]
  },
  {
   "cell_type": "code",
   "execution_count": 6,
   "metadata": {},
   "outputs": [],
   "source": [
    "data['Temperature_difference'] = data['Coolant temp'] - data['lub oil temp']"
   ]
  },
  {
   "cell_type": "code",
   "execution_count": 8,
   "metadata": {},
   "outputs": [
    {
     "data": {
      "text/plain": [
       "0.7002"
      ]
     },
     "execution_count": 8,
     "metadata": {},
     "output_type": "execute_result"
    }
   ],
   "source": [
    "#Random Forest\n",
    "from sklearn.ensemble import RandomForestClassifier\n",
    "from sklearn.model_selection import train_test_split\n",
    "from sklearn.metrics import accuracy_score\n",
    "from sklearn.preprocessing import MinMaxScaler\n",
    "\n",
    "X = data.drop(['Engine Condition'], axis=1)\n",
    "y = data['Engine Condition']\n",
    "\n",
    "# Apply MinMax scaling\n",
    "scaler = MinMaxScaler()\n",
    "X_scaled = scaler.fit_transform(X)\n",
    "\n",
    "# Train-test split\n",
    "X_train, X_test, y_train, y_test = train_test_split(X_scaled, y, test_size=0.2, random_state=42)\n",
    "\n",
    "model = RandomForestClassifier(n_estimators=700, max_depth=50, min_samples_split=2, min_samples_leaf=1, random_state=42)\n",
    "model.fit(X_train, y_train)\n",
    "\n",
    "y_pred = model.predict(X_test)\n",
    "\n",
    "accuracy_score(y_test, y_pred)"
   ]
  },
  {
   "cell_type": "code",
   "execution_count": 10,
   "metadata": {},
   "outputs": [
    {
     "name": "stdout",
     "output_type": "stream",
     "text": [
      "              precision    recall  f1-score   support\n",
      "\n",
      "           0       0.64      0.45      0.53      1861\n",
      "           1       0.72      0.85      0.78      3139\n",
      "\n",
      "    accuracy                           0.70      5000\n",
      "   macro avg       0.68      0.65      0.66      5000\n",
      "weighted avg       0.69      0.70      0.69      5000\n",
      "\n"
     ]
    }
   ],
   "source": [
    " #give f1 score report with precision and recall\n",
    "from sklearn.metrics import classification_report\n",
    "\n",
    "y_pred = model.predict(X_test)\n",
    "print(classification_report(y_test, y_pred))"
   ]
  }
 ],
 "metadata": {
  "kernelspec": {
   "display_name": "venv",
   "language": "python",
   "name": "python3"
  },
  "language_info": {
   "codemirror_mode": {
    "name": "ipython",
    "version": 3
   },
   "file_extension": ".py",
   "mimetype": "text/x-python",
   "name": "python",
   "nbconvert_exporter": "python",
   "pygments_lexer": "ipython3",
   "version": "3.10.11"
  }
 },
 "nbformat": 4,
 "nbformat_minor": 2
}
